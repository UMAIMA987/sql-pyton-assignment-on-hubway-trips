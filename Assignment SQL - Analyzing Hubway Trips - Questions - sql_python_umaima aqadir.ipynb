{
 "cells": [
  {
   "cell_type": "markdown",
   "metadata": {
    "id": "jnaUBXiD90TP"
   },
   "source": [
    "# Analyzing Hubway Trips in SQL"
   ]
  },
  {
   "cell_type": "code",
   "execution_count": 189,
   "metadata": {
    "colab": {
     "base_uri": "https://localhost:8080/"
    },
    "executionInfo": {
     "elapsed": 6503,
     "status": "ok",
     "timestamp": 1696084374181,
     "user": {
      "displayName": "Mesum Raza Hemani",
      "userId": "02137032281712867702"
     },
     "user_tz": -300
    },
    "id": "HAeLs-2TADoE",
    "outputId": "2bdc0663-9d81-4248-ed7e-793bcd8579da"
   },
   "outputs": [
    {
     "name": "stdout",
     "output_type": "stream",
     "text": [
      "Defaulting to user installation because normal site-packages is not writeable\n",
      "Requirement already satisfied: ipython-sql in c:\\users\\hp\\appdata\\roaming\\python\\python310\\site-packages (0.5.0)\n",
      "Requirement already satisfied: six in c:\\programdata\\anaconda3\\lib\\site-packages (from ipython-sql) (1.16.0)\n",
      "Requirement already satisfied: prettytable in c:\\users\\hp\\appdata\\roaming\\python\\python310\\site-packages (from ipython-sql) (3.9.0)\n",
      "Collecting sqlalchemy>=2.0\n",
      "  Using cached SQLAlchemy-2.0.21-cp310-cp310-win_amd64.whl (2.0 MB)\n",
      "Requirement already satisfied: ipython-genutils in c:\\programdata\\anaconda3\\lib\\site-packages (from ipython-sql) (0.2.0)\n",
      "Requirement already satisfied: ipython in c:\\programdata\\anaconda3\\lib\\site-packages (from ipython-sql) (8.10.0)\n",
      "Requirement already satisfied: sqlparse in c:\\users\\hp\\appdata\\roaming\\python\\python310\\site-packages (from ipython-sql) (0.4.4)\n",
      "Requirement already satisfied: greenlet!=0.4.17 in c:\\programdata\\anaconda3\\lib\\site-packages (from sqlalchemy>=2.0->ipython-sql) (2.0.1)\n",
      "Requirement already satisfied: typing-extensions>=4.2.0 in c:\\programdata\\anaconda3\\lib\\site-packages (from sqlalchemy>=2.0->ipython-sql) (4.4.0)\n",
      "Requirement already satisfied: backcall in c:\\programdata\\anaconda3\\lib\\site-packages (from ipython->ipython-sql) (0.2.0)\n",
      "Requirement already satisfied: decorator in c:\\programdata\\anaconda3\\lib\\site-packages (from ipython->ipython-sql) (5.1.1)\n",
      "Requirement already satisfied: pickleshare in c:\\programdata\\anaconda3\\lib\\site-packages (from ipython->ipython-sql) (0.7.5)\n",
      "Requirement already satisfied: pygments>=2.4.0 in c:\\programdata\\anaconda3\\lib\\site-packages (from ipython->ipython-sql) (2.11.2)\n",
      "Requirement already satisfied: jedi>=0.16 in c:\\programdata\\anaconda3\\lib\\site-packages (from ipython->ipython-sql) (0.18.1)\n",
      "Requirement already satisfied: matplotlib-inline in c:\\programdata\\anaconda3\\lib\\site-packages (from ipython->ipython-sql) (0.1.6)\n",
      "Requirement already satisfied: stack-data in c:\\programdata\\anaconda3\\lib\\site-packages (from ipython->ipython-sql) (0.2.0)\n",
      "Requirement already satisfied: colorama in c:\\programdata\\anaconda3\\lib\\site-packages (from ipython->ipython-sql) (0.4.6)\n",
      "Requirement already satisfied: prompt-toolkit<3.1.0,>=3.0.30 in c:\\programdata\\anaconda3\\lib\\site-packages (from ipython->ipython-sql) (3.0.36)\n",
      "Requirement already satisfied: traitlets>=5 in c:\\programdata\\anaconda3\\lib\\site-packages (from ipython->ipython-sql) (5.7.1)\n",
      "Requirement already satisfied: wcwidth in c:\\programdata\\anaconda3\\lib\\site-packages (from prettytable->ipython-sql) (0.2.5)\n",
      "Requirement already satisfied: parso<0.9.0,>=0.8.0 in c:\\programdata\\anaconda3\\lib\\site-packages (from jedi>=0.16->ipython->ipython-sql) (0.8.3)\n",
      "Requirement already satisfied: asttokens in c:\\programdata\\anaconda3\\lib\\site-packages (from stack-data->ipython->ipython-sql) (2.0.5)\n",
      "Requirement already satisfied: pure-eval in c:\\programdata\\anaconda3\\lib\\site-packages (from stack-data->ipython->ipython-sql) (0.2.2)\n",
      "Requirement already satisfied: executing in c:\\programdata\\anaconda3\\lib\\site-packages (from stack-data->ipython->ipython-sql) (0.8.3)\n",
      "Installing collected packages: sqlalchemy\n",
      "  Attempting uninstall: sqlalchemy\n",
      "    Found existing installation: SQLAlchemy 1.4.49\n",
      "    Uninstalling SQLAlchemy-1.4.49:\n",
      "      Successfully uninstalled SQLAlchemy-1.4.49\n",
      "Successfully installed sqlalchemy-2.0.21\n"
     ]
    }
   ],
   "source": [
    "#You will have to install ipython-sql using the following command:\n",
    "\n",
    "!pip install ipython-sql --upgrade\n",
    "\n",
    "#Just Execute the cell and it will install"
   ]
  },
  {
   "cell_type": "code",
   "execution_count": 190,
   "metadata": {
    "execution": {
     "iopub.execute_input": "2020-10-21T08:48:37.270Z",
     "iopub.status.busy": "2020-10-21T08:48:37.251Z",
     "iopub.status.idle": "2020-10-21T08:48:37.303Z",
     "shell.execute_reply": "2020-10-21T08:48:37.320Z"
    },
    "executionInfo": {
     "elapsed": 737,
     "status": "ok",
     "timestamp": 1696084430578,
     "user": {
      "displayName": "Mesum Raza Hemani",
      "userId": "02137032281712867702"
     },
     "user_tz": -300
    },
    "id": "sy4EsMOH90TR"
   },
   "outputs": [
    {
     "name": "stdout",
     "output_type": "stream",
     "text": [
      "The sql extension is already loaded. To reload it, use:\n",
      "  %reload_ext sql\n"
     ]
    }
   ],
   "source": [
    "# If your file is in another Directory (Without Space in Name of Directory) : %sql sqlite:///Hello/Another_Folder/hubway_small_ok.db\n",
    "\n",
    "# If your file is in Same Directory : %sql sqlite:///hubway_small_ok.db\n",
    "\n",
    "%load_ext sql\n",
    "%sql sqlite:///hubway.db\n",
    "%config SqlMagic.autocommit=False"
   ]
  },
  {
   "cell_type": "markdown",
   "metadata": {
    "id": "I84hmu-B90TV"
   },
   "source": [
    "**Please write your queries below in the empty boxes same as you write in a SQL Window**\n",
    "\n",
    "Just append **%sql** before your query like this '%sql Select * from Trips limit 5;'"
   ]
  },
  {
   "cell_type": "code",
   "execution_count": null,
   "metadata": {},
   "outputs": [],
   "source": []
  },
  {
   "cell_type": "code",
   "execution_count": 191,
   "metadata": {
    "colab": {
     "base_uri": "https://localhost:8080/",
     "height": 154
    },
    "execution": {
     "iopub.execute_input": "2020-10-21T09:36:52.747Z",
     "iopub.status.busy": "2020-10-21T09:36:52.736Z",
     "iopub.status.idle": "2020-10-21T09:36:52.784Z",
     "shell.execute_reply": "2020-10-21T09:36:52.796Z"
    },
    "executionInfo": {
     "elapsed": 548,
     "status": "ok",
     "timestamp": 1696084439128,
     "user": {
      "displayName": "Mesum Raza Hemani",
      "userId": "02137032281712867702"
     },
     "user_tz": -300
    },
    "id": "3EQywREo90TW",
    "outputId": "8131c086-a497-44f6-c63c-91023c2508cb"
   },
   "outputs": [
    {
     "name": "stdout",
     "output_type": "stream",
     "text": [
      " * sqlite:///hubway.db\n",
      "Done.\n"
     ]
    },
    {
     "data": {
      "text/html": [
       "<table>\n",
       "    <thead>\n",
       "        <tr>\n",
       "            <th>id</th>\n",
       "            <th>duration</th>\n",
       "            <th>start_date</th>\n",
       "            <th>start_station</th>\n",
       "            <th>end_date</th>\n",
       "            <th>end_station</th>\n",
       "            <th>bike_number</th>\n",
       "            <th>sub_type</th>\n",
       "            <th>zip_code</th>\n",
       "            <th>birth_date</th>\n",
       "            <th>gender</th>\n",
       "        </tr>\n",
       "    </thead>\n",
       "    <tbody>\n",
       "        <tr>\n",
       "            <td>1</td>\n",
       "            <td>9</td>\n",
       "            <td>2011-07-28 10:12:00</td>\n",
       "            <td>23</td>\n",
       "            <td>2011-07-28 10:12:00</td>\n",
       "            <td>23</td>\n",
       "            <td>B00468</td>\n",
       "            <td>Registered</td>\n",
       "            <td>&#x27;97217</td>\n",
       "            <td>1976.0</td>\n",
       "            <td>Male</td>\n",
       "        </tr>\n",
       "        <tr>\n",
       "            <td>2</td>\n",
       "            <td>220</td>\n",
       "            <td>2011-07-28 10:21:00</td>\n",
       "            <td>23</td>\n",
       "            <td>2011-07-28 10:25:00</td>\n",
       "            <td>23</td>\n",
       "            <td>B00554</td>\n",
       "            <td>Registered</td>\n",
       "            <td>&#x27;02215</td>\n",
       "            <td>1966.0</td>\n",
       "            <td>Male</td>\n",
       "        </tr>\n",
       "    </tbody>\n",
       "</table>"
      ],
      "text/plain": [
       "[(1, 9, '2011-07-28 10:12:00', 23, '2011-07-28 10:12:00', 23, 'B00468', 'Registered', \"'97217\", 1976.0, 'Male'),\n",
       " (2, 220, '2011-07-28 10:21:00', 23, '2011-07-28 10:25:00', 23, 'B00554', 'Registered', \"'02215\", 1966.0, 'Male')]"
      ]
     },
     "execution_count": 191,
     "metadata": {},
     "output_type": "execute_result"
    }
   ],
   "source": [
    "%%sql\n",
    "\n",
    "Select * from Trips limit 2"
   ]
  },
  {
   "cell_type": "markdown",
   "metadata": {
    "id": "VjnOTBKt90Ta"
   },
   "source": [
    "**About the Dataset and Schema**\n",
    "\n",
    "The database has two tables, trips and stations. To begin with, we'll look at the trips table. It contains the following columns:\n",
    "\n",
    "\n",
    "**Trips:**\n",
    "\n",
    "id — A unique integer that serves as a reference for each trip\n",
    "\n",
    "duration — The duration of the trip, measured in seconds\n",
    "\n",
    "start_date — The date and time the trip began\n",
    "\n",
    "start_station — An integer that corresponds to the id column in the stations table for the station the trip started at\n",
    "\n",
    "end_date — The date and time the trip ended\n",
    "\n",
    "end_station — The 'id' of the station the trip ended at\n",
    "\n",
    "bike_number — Hubway's unique identifier for the bike used on the trip\n",
    "\n",
    "sub_type — The subscription type of the user. \"Registered\" for users with a membership, \"Casual\" for users without a membership\n",
    "\n",
    "zip_code — The zip code of the user (only available for registered members)\n",
    "\n",
    "birth_date — The birth year of the user (only available for registered members)\n",
    "\n",
    "gender — The gender of the user (only available for registered members)\n",
    "\n",
    "\n",
    "**Station:**\n",
    "\n",
    "\n",
    "id — A unique identifier for each station (corresponds to the start_station and end_station columns in the trips table)\n",
    "\n",
    "station — The station name\n",
    "\n",
    "municipality — The municipality that the station is in (Boston, Brookline, Cambridge or Somerville)\n",
    "\n",
    "lat — The latitude of the station\n",
    "\n",
    "lng — The longitude of the station"
   ]
  },
  {
   "cell_type": "markdown",
   "metadata": {
    "id": "hKDibiAy90Tb"
   },
   "source": [
    "## Analytical Questions Test in SQL"
   ]
  },
  {
   "cell_type": "markdown",
   "metadata": {
    "id": "CwBUDLCf90Tc"
   },
   "source": [
    "Q1. What was the duration of the longest trip? What was the average trip duration? What was the smallest trip duration?"
   ]
  },
  {
   "cell_type": "code",
   "execution_count": 192,
   "metadata": {},
   "outputs": [
    {
     "name": "stdout",
     "output_type": "stream",
     "text": [
      " * sqlite:///hubway.db\n",
      "Done.\n"
     ]
    },
    {
     "data": {
      "text/html": [
       "<table>\n",
       "    <thead>\n",
       "        <tr>\n",
       "            <th>smallest_trip</th>\n",
       "            <th>longest_trip</th>\n",
       "            <th>Average_trip</th>\n",
       "        </tr>\n",
       "    </thead>\n",
       "    <tbody>\n",
       "        <tr>\n",
       "            <td>0</td>\n",
       "            <td>9999</td>\n",
       "            <td>912.4096819046612</td>\n",
       "        </tr>\n",
       "    </tbody>\n",
       "</table>"
      ],
      "text/plain": [
       "[(0, 9999, 912.4096819046612)]"
      ]
     },
     "execution_count": 192,
     "metadata": {},
     "output_type": "execute_result"
    }
   ],
   "source": [
    "%%sql\n",
    "Select min(duration) smallest_trip ,max(duration) longest_trip ,avg(duration) Average_trip  from Trips;"
   ]
  },
  {
   "cell_type": "markdown",
   "metadata": {
    "id": "1eK00otH90Tg"
   },
   "source": [
    "Q2. How many trips were taken by 'Registered' users?\n",
    "\n",
    "Hint: Use Sub Type to Filter by Where"
   ]
  },
  {
   "cell_type": "code",
   "execution_count": 193,
   "metadata": {},
   "outputs": [
    {
     "name": "stdout",
     "output_type": "stream",
     "text": [
      " * sqlite:///hubway.db\n",
      "Done.\n"
     ]
    },
    {
     "data": {
      "text/html": [
       "<table>\n",
       "    <thead>\n",
       "        <tr>\n",
       "            <th>count</th>\n",
       "        </tr>\n",
       "    </thead>\n",
       "    <tbody>\n",
       "        <tr>\n",
       "            <td>1105192</td>\n",
       "        </tr>\n",
       "    </tbody>\n",
       "</table>"
      ],
      "text/plain": [
       "[(1105192,)]"
      ]
     },
     "execution_count": 193,
     "metadata": {},
     "output_type": "execute_result"
    }
   ],
   "source": [
    "%%sql\n",
    "SELECT count(distinct id) as count\n",
    "FROM Trips\n",
    "WHERE sub_type = 'Registered';\n"
   ]
  },
  {
   "cell_type": "markdown",
   "metadata": {},
   "source": [
    "#### 1105192 trips were taken by Registered users."
   ]
  },
  {
   "cell_type": "markdown",
   "metadata": {
    "id": "RiYQ1YmB90Tk"
   },
   "source": [
    "Q3. How many trips were taken by male users in comparison to Female users? for Registered users only\n",
    "\n",
    "Hint: Group By Gender and Calculate Count"
   ]
  },
  {
   "cell_type": "code",
   "execution_count": 194,
   "metadata": {},
   "outputs": [
    {
     "name": "stdout",
     "output_type": "stream",
     "text": [
      " * sqlite:///hubway.db\n",
      "Done.\n"
     ]
    },
    {
     "data": {
      "text/html": [
       "<table>\n",
       "    <thead>\n",
       "        <tr>\n",
       "            <th>gender</th>\n",
       "            <th>count</th>\n",
       "        </tr>\n",
       "    </thead>\n",
       "    <tbody>\n",
       "        <tr>\n",
       "            <td>Female</td>\n",
       "            <td>271333</td>\n",
       "        </tr>\n",
       "        <tr>\n",
       "            <td>Female<br></td>\n",
       "            <td>1</td>\n",
       "        </tr>\n",
       "        <tr>\n",
       "            <td>Male</td>\n",
       "            <td>833858</td>\n",
       "        </tr>\n",
       "    </tbody>\n",
       "</table>"
      ],
      "text/plain": [
       "[('Female', 271333), ('Female\\n', 1), ('Male', 833858)]"
      ]
     },
     "execution_count": 194,
     "metadata": {},
     "output_type": "execute_result"
    }
   ],
   "source": [
    "%%sql\n",
    "select gender , count(distinct id)as count\n",
    "from trips\n",
    "where sub_type = 'Registered'\n",
    "group by gender;\n"
   ]
  },
  {
   "cell_type": "markdown",
   "metadata": {},
   "source": [
    "To clean female column we run another querry to get clean results."
   ]
  },
  {
   "cell_type": "code",
   "execution_count": 195,
   "metadata": {},
   "outputs": [
    {
     "name": "stdout",
     "output_type": "stream",
     "text": [
      " * sqlite:///hubway.db\n",
      "Done.\n"
     ]
    },
    {
     "data": {
      "text/html": [
       "<table>\n",
       "    <thead>\n",
       "        <tr>\n",
       "            <th>cleaned_gender</th>\n",
       "            <th>no_of_trips</th>\n",
       "        </tr>\n",
       "    </thead>\n",
       "    <tbody>\n",
       "        <tr>\n",
       "            <td>Male</td>\n",
       "            <td>833858</td>\n",
       "        </tr>\n",
       "        <tr>\n",
       "            <td>Female</td>\n",
       "            <td>271334</td>\n",
       "        </tr>\n",
       "    </tbody>\n",
       "</table>"
      ],
      "text/plain": [
       "[('Male', 833858), ('Female', 271334)]"
      ]
     },
     "execution_count": 195,
     "metadata": {},
     "output_type": "execute_result"
    }
   ],
   "source": [
    "%%sql\n",
    "\n",
    "select (case when gender like 'Female%' then 'Female' else gender end) as cleaned_gender\n",
    ", count(distinct id) as no_of_trips\n",
    "from  trips\n",
    "where sub_type = 'Registered'\n",
    "group by cleaned_gender \n",
    "order by no_of_trips desc;"
   ]
  },
  {
   "cell_type": "markdown",
   "metadata": {},
   "source": [
    "#### Male took more rides in comparision to Female"
   ]
  },
  {
   "cell_type": "markdown",
   "metadata": {
    "id": "TUYa6eNh90Tq"
   },
   "source": [
    "Q4. Do registered or casual users take longer trips?\n",
    "\n",
    "Hint: Group By Sub Type and Calculate Average"
   ]
  },
  {
   "cell_type": "code",
   "execution_count": 196,
   "metadata": {
    "id": "ZZ7VJRul90Tq"
   },
   "outputs": [
    {
     "name": "stdout",
     "output_type": "stream",
     "text": [
      " * sqlite:///hubway.db\n",
      "Done.\n"
     ]
    },
    {
     "data": {
      "text/html": [
       "<table>\n",
       "    <thead>\n",
       "        <tr>\n",
       "            <th>sub_type</th>\n",
       "            <th>Average_trip</th>\n",
       "        </tr>\n",
       "    </thead>\n",
       "    <tbody>\n",
       "        <tr>\n",
       "            <td>Casual</td>\n",
       "            <td>1519.6438967403815</td>\n",
       "        </tr>\n",
       "        <tr>\n",
       "            <td>Registered</td>\n",
       "            <td>657.0260669639302</td>\n",
       "        </tr>\n",
       "    </tbody>\n",
       "</table>"
      ],
      "text/plain": [
       "[('Casual', 1519.6438967403815), ('Registered', 657.0260669639302)]"
      ]
     },
     "execution_count": 196,
     "metadata": {},
     "output_type": "execute_result"
    }
   ],
   "source": [
    "%%sql\n",
    "\n",
    "select sub_type ,  avg(duration) Average_trip \n",
    "from trips \n",
    "group by sub_type\n",
    "order by Average_trip desc;"
   ]
  },
  {
   "cell_type": "markdown",
   "metadata": {},
   "source": [
    "#### Casual users took longer trips than registered users."
   ]
  },
  {
   "cell_type": "markdown",
   "metadata": {
    "id": "hv9m6dsv90Tu"
   },
   "source": [
    "Q5. Which bike was used for the most trips?\n",
    "\n",
    "Hint : Use Bike Number and Limit Results to 1"
   ]
  },
  {
   "cell_type": "code",
   "execution_count": 197,
   "metadata": {
    "id": "8LIAd_iv90Tv"
   },
   "outputs": [
    {
     "name": "stdout",
     "output_type": "stream",
     "text": [
      " * sqlite:///hubway.db\n",
      "Done.\n"
     ]
    },
    {
     "data": {
      "text/html": [
       "<table>\n",
       "    <thead>\n",
       "        <tr>\n",
       "            <th>bike_number</th>\n",
       "            <th>count</th>\n",
       "        </tr>\n",
       "    </thead>\n",
       "    <tbody>\n",
       "        <tr>\n",
       "            <td>B00490</td>\n",
       "            <td>2120</td>\n",
       "        </tr>\n",
       "    </tbody>\n",
       "</table>"
      ],
      "text/plain": [
       "[('B00490', 2120)]"
      ]
     },
     "execution_count": 197,
     "metadata": {},
     "output_type": "execute_result"
    }
   ],
   "source": [
    "%%sql\n",
    "\n",
    "SELECT bike_number , count(distinct id)as count\n",
    "from trips\n",
    "group by bike_number\n",
    "order by count desc\n",
    "limit 1;\n"
   ]
  },
  {
   "cell_type": "markdown",
   "metadata": {},
   "source": [
    "#### B00490 is the bike which used for most trips."
   ]
  },
  {
   "cell_type": "markdown",
   "metadata": {
    "id": "cf3TVN2C90Tx"
   },
   "source": [
    "Q6. What is the average duration of trips by users over the age of 30?\n",
    "\n",
    "Hint : DoB is already in years and use Airthmetic operator to caluculate Age like (2021-DOB)\n",
    "\n",
    "Link : #GETTING AGE IN SQLLITE : https://stackoverflow.com/questions/49929953/how-to-calculate-approximate-age-based-on-birth-year"
   ]
  },
  {
   "cell_type": "code",
   "execution_count": 198,
   "metadata": {
    "id": "BmVwA2Lm90Ty"
   },
   "outputs": [
    {
     "name": "stdout",
     "output_type": "stream",
     "text": [
      " * sqlite:///hubway.db\n",
      "Done.\n"
     ]
    },
    {
     "data": {
      "text/html": [
       "<table>\n",
       "    <thead>\n",
       "        <tr>\n",
       "            <th>avg_duration</th>\n",
       "        </tr>\n",
       "    </thead>\n",
       "    <tbody>\n",
       "        <tr>\n",
       "            <td>658.4913889465072</td>\n",
       "        </tr>\n",
       "    </tbody>\n",
       "</table>"
      ],
      "text/plain": [
       "[(658.4913889465072,)]"
      ]
     },
     "execution_count": 198,
     "metadata": {},
     "output_type": "execute_result"
    }
   ],
   "source": [
    "%%sql\n",
    "\n",
    "SELECT  avg(duration) as avg_duration \n",
    "from trips\n",
    "where (strftime('%Y', date('now')) - birth_date) >30;\n"
   ]
  },
  {
   "cell_type": "markdown",
   "metadata": {},
   "source": [
    "#### Average duration of trips over the age of 30 is 658.491(seconds)."
   ]
  },
  {
   "cell_type": "markdown",
   "metadata": {
    "id": "ucw8rEnY90T0"
   },
   "source": [
    "Q7. Which stations are most frequently used for round trips?\n",
    "\n",
    "Hint: Round trip is considered as where Start and Stop Stations are same. Limit to top 5 Stations"
   ]
  },
  {
   "cell_type": "code",
   "execution_count": 202,
   "metadata": {
    "id": "Ew6vmqkZ90T1",
    "tags": []
   },
   "outputs": [
    {
     "name": "stdout",
     "output_type": "stream",
     "text": [
      " * sqlite:///hubway.db\n",
      "Done.\n"
     ]
    },
    {
     "data": {
      "text/html": [
       "<table>\n",
       "    <thead>\n",
       "        <tr>\n",
       "            <th>station</th>\n",
       "            <th>no_round_trips</th>\n",
       "        </tr>\n",
       "    </thead>\n",
       "    <tbody>\n",
       "        <tr>\n",
       "            <td>The Esplanade - Beacon St. at Arlington St.</td>\n",
       "            <td>3064</td>\n",
       "        </tr>\n",
       "        <tr>\n",
       "            <td>Charles Circle - Charles St. at Cambridge St.</td>\n",
       "            <td>2739</td>\n",
       "        </tr>\n",
       "        <tr>\n",
       "            <td>Boston Public Library - 700 Boylston St.</td>\n",
       "            <td>2548</td>\n",
       "        </tr>\n",
       "        <tr>\n",
       "            <td>Boylston St. at Arlington St.</td>\n",
       "            <td>2163</td>\n",
       "        </tr>\n",
       "        <tr>\n",
       "            <td>Beacon St / Mass Ave</td>\n",
       "            <td>2144</td>\n",
       "        </tr>\n",
       "    </tbody>\n",
       "</table>"
      ],
      "text/plain": [
       "[('The Esplanade - Beacon St. at Arlington St.', 3064),\n",
       " ('Charles Circle - Charles St. at Cambridge St.', 2739),\n",
       " ('Boston Public Library - 700 Boylston St.', 2548),\n",
       " ('Boylston St. at Arlington St.', 2163),\n",
       " ('Beacon St / Mass Ave', 2144)]"
      ]
     },
     "execution_count": 202,
     "metadata": {},
     "output_type": "execute_result"
    }
   ],
   "source": [
    "%%sql\n",
    "\n",
    "select s.station , count(distinct t.id) no_round_trips\n",
    "from trips t\n",
    "left join stations s on t.start_station = s.id\n",
    "where t.start_station = t.end_station\n",
    "group by station\n",
    "order by no_round_trips desc\n",
    "limit 5;"
   ]
  },
  {
   "cell_type": "markdown",
   "metadata": {
    "id": "gitxlr_Q90T3"
   },
   "source": [
    "Q8. How many trips start and end in different municipalities?\n",
    "\n",
    "Hint: We need to JOIN the trips table to the stations table twice. Once ON the start_station column and then ON the end_station"
   ]
  },
  {
   "cell_type": "code",
   "execution_count": 203,
   "metadata": {},
   "outputs": [
    {
     "name": "stdout",
     "output_type": "stream",
     "text": [
      " * sqlite:///hubway.db\n",
      "Done.\n"
     ]
    },
    {
     "data": {
      "text/html": [
       "<table>\n",
       "    <thead>\n",
       "        <tr>\n",
       "            <th>diff_municipalities_rides</th>\n",
       "        </tr>\n",
       "    </thead>\n",
       "    <tbody>\n",
       "        <tr>\n",
       "            <td>309748</td>\n",
       "        </tr>\n",
       "    </tbody>\n",
       "</table>"
      ],
      "text/plain": [
       "[(309748,)]"
      ]
     },
     "execution_count": 203,
     "metadata": {},
     "output_type": "execute_result"
    }
   ],
   "source": [
    "%%sql\n",
    "\n",
    "SELECT count(distinct t.id)as diff_municipalities_rides \n",
    "FROM trips t\n",
    "LEFT JOIN stations ss ON t.start_station = ss.id\n",
    "LEFT JOIN stations es ON t.end_station = es.id\n",
    "where ss.municipality <> es.municipality;"
   ]
  },
  {
   "cell_type": "markdown",
   "metadata": {
    "id": "VMIUioIk90T7"
   },
   "source": [
    "Q9. How many trips incurred additional fees (lasted longer than 30 minutes)?\n",
    "\n",
    "Hint: Use an Arithmetic function to calculate Duration in Minutes and Use in Where Clause"
   ]
  },
  {
   "cell_type": "code",
   "execution_count": 204,
   "metadata": {
    "id": "fdR9aX5290T8"
   },
   "outputs": [
    {
     "name": "stdout",
     "output_type": "stream",
     "text": [
      " * sqlite:///hubway.db\n",
      "Done.\n"
     ]
    },
    {
     "data": {
      "text/html": [
       "<table>\n",
       "    <thead>\n",
       "        <tr>\n",
       "            <th>count_trips</th>\n",
       "        </tr>\n",
       "    </thead>\n",
       "    <tbody>\n",
       "        <tr>\n",
       "            <td>123155</td>\n",
       "        </tr>\n",
       "    </tbody>\n",
       "</table>"
      ],
      "text/plain": [
       "[(123155,)]"
      ]
     },
     "execution_count": 204,
     "metadata": {},
     "output_type": "execute_result"
    }
   ],
   "source": [
    "%%sql\n",
    "\n",
    "select count(distinct id)as count_trips\n",
    "from trips\n",
    "where duration > 60*30;"
   ]
  },
  {
   "cell_type": "markdown",
   "metadata": {
    "id": "ksQvYCPY90T_"
   },
   "source": [
    "Q10. Which bike was used for the longest total time? Provide the answer in Hours\n",
    "\n",
    "Hint: Use an Group by Bike Number to sum Duration in Seconds and Limit Result to 1"
   ]
  },
  {
   "cell_type": "code",
   "execution_count": 205,
   "metadata": {
    "id": "od0_jInW90UA"
   },
   "outputs": [
    {
     "name": "stdout",
     "output_type": "stream",
     "text": [
      " * sqlite:///hubway.db\n",
      "Done.\n"
     ]
    },
    {
     "data": {
      "text/html": [
       "<table>\n",
       "    <thead>\n",
       "        <tr>\n",
       "            <th>bike_number</th>\n",
       "            <th>total_usage_hours</th>\n",
       "        </tr>\n",
       "    </thead>\n",
       "    <tbody>\n",
       "        <tr>\n",
       "            <td>B00490</td>\n",
       "            <td>571</td>\n",
       "        </tr>\n",
       "    </tbody>\n",
       "</table>"
      ],
      "text/plain": [
       "[('B00490', 571)]"
      ]
     },
     "execution_count": 205,
     "metadata": {},
     "output_type": "execute_result"
    }
   ],
   "source": [
    "%%sql\n",
    "\n",
    "select bike_number , sum(duration)/3600 as total_usage_hours\n",
    "from trips\n",
    "group by bike_number\n",
    "order by total_usage_hours desc\n",
    "limit 1;"
   ]
  },
  {
   "cell_type": "markdown",
   "metadata": {},
   "source": [
    "#### Bike B00490 was used for the longest total time , 571 hours."
   ]
  },
  {
   "cell_type": "markdown",
   "metadata": {
    "id": "WoBja5Bi90UD"
   },
   "source": [
    "Q11. Did registered or casual users take more round trips?\n",
    "\n",
    "Hint: Recall Q7 and Modify your query to answer by Sub Type"
   ]
  },
  {
   "cell_type": "code",
   "execution_count": 206,
   "metadata": {
    "id": "hMmdNfE590UE"
   },
   "outputs": [
    {
     "name": "stdout",
     "output_type": "stream",
     "text": [
      " * sqlite:///hubway.db\n",
      "Done.\n"
     ]
    },
    {
     "data": {
      "text/html": [
       "<table>\n",
       "    <thead>\n",
       "        <tr>\n",
       "            <th>sub_type</th>\n",
       "            <th>count_round_trips</th>\n",
       "        </tr>\n",
       "    </thead>\n",
       "    <tbody>\n",
       "        <tr>\n",
       "            <td>Casual</td>\n",
       "            <td>41427</td>\n",
       "        </tr>\n",
       "        <tr>\n",
       "            <td>Registered</td>\n",
       "            <td>31635</td>\n",
       "        </tr>\n",
       "    </tbody>\n",
       "</table>"
      ],
      "text/plain": [
       "[('Casual', 41427), ('Registered', 31635)]"
      ]
     },
     "execution_count": 206,
     "metadata": {},
     "output_type": "execute_result"
    }
   ],
   "source": [
    "%%sql\n",
    "\n",
    "select sub_type,  count(distinct id) as count_round_trips\n",
    "from trips\n",
    "where start_station = end_station\n",
    "group by sub_type\n",
    "order by count_round_trips desc;"
   ]
  },
  {
   "cell_type": "markdown",
   "metadata": {},
   "source": [
    "#### Casual users = 41427\n",
    "#### Registered users = 31635\n",
    "\n",
    "#### Casual users took more round trips as compared to Registered users."
   ]
  },
  {
   "cell_type": "markdown",
   "metadata": {
    "id": "3HQvpScA90UG"
   },
   "source": [
    "Q12. Which municipality had the most frequent Station End?\n",
    "\n",
    "Hint: Join the Station table on End Station and then Group by Municipality to find answer"
   ]
  },
  {
   "cell_type": "code",
   "execution_count": 207,
   "metadata": {
    "id": "l3UJnvRV90UH"
   },
   "outputs": [
    {
     "name": "stdout",
     "output_type": "stream",
     "text": [
      " * sqlite:///hubway.db\n",
      "Done.\n"
     ]
    },
    {
     "data": {
      "text/html": [
       "<table>\n",
       "    <thead>\n",
       "        <tr>\n",
       "            <th>municipality</th>\n",
       "            <th>trip_count</th>\n",
       "        </tr>\n",
       "    </thead>\n",
       "    <tbody>\n",
       "        <tr>\n",
       "            <td>Boston</td>\n",
       "            <td>1212364</td>\n",
       "        </tr>\n",
       "    </tbody>\n",
       "</table>"
      ],
      "text/plain": [
       "[('Boston', 1212364)]"
      ]
     },
     "execution_count": 207,
     "metadata": {},
     "output_type": "execute_result"
    }
   ],
   "source": [
    "%%sql\n",
    "\n",
    "SELECT s.municipality, COUNT(t.id) AS trip_count\n",
    "FROM trips t\n",
    "JOIN stations s ON t.end_station = s.id\n",
    "GROUP BY s.municipality\n",
    "ORDER BY trip_count DESC\n",
    "LIMIT 1;\n",
    "\n"
   ]
  },
  {
   "cell_type": "markdown",
   "metadata": {
    "id": "dOhc8kihADoM"
   },
   "source": [
    "Q13. Which From and To Routes are Frequent with Regards to Municipalities?\n",
    "\n",
    "Hint: Get Start and End Municipalities and Group by Both Attributes for Count of Rides"
   ]
  },
  {
   "cell_type": "code",
   "execution_count": 208,
   "metadata": {
    "id": "zaw_-evaADoM"
   },
   "outputs": [
    {
     "name": "stdout",
     "output_type": "stream",
     "text": [
      " * sqlite:///hubway.db\n",
      "Done.\n"
     ]
    },
    {
     "data": {
      "text/html": [
       "<table>\n",
       "    <thead>\n",
       "        <tr>\n",
       "            <th>start_municipality</th>\n",
       "            <th>end_municipality</th>\n",
       "            <th>trip_count</th>\n",
       "        </tr>\n",
       "    </thead>\n",
       "    <tbody>\n",
       "        <tr>\n",
       "            <td>Boston</td>\n",
       "            <td>Boston</td>\n",
       "            <td>1081805</td>\n",
       "        </tr>\n",
       "    </tbody>\n",
       "</table>"
      ],
      "text/plain": [
       "[('Boston', 'Boston', 1081805)]"
      ]
     },
     "execution_count": 208,
     "metadata": {},
     "output_type": "execute_result"
    }
   ],
   "source": [
    "%%sql\n",
    "\n",
    "SELECT s_start.municipality AS start_municipality,  \n",
    "s_end.municipality AS end_municipality, \n",
    "COUNT(t.id) AS trip_count\n",
    "FROM trips t\n",
    "JOIN stations s_start ON t.start_station = s_start.id\n",
    "JOIN stations s_end ON t.end_station = s_end.id\n",
    "GROUP BY s_start.municipality, s_end.municipality\n",
    "ORDER BY trip_count DESC\n",
    "LIMIT 1;"
   ]
  },
  {
   "cell_type": "markdown",
   "metadata": {
    "id": "ehT4zCLRADoN"
   },
   "source": [
    "Q14. Which Age Band in \"Registered Users\" has the most Rides? Calculate Age Bands based on interval of 10 and Cut Off by 70 or Above\n",
    "\n",
    "Hint: Use Case When to Create Range of Value Bands as per Above Criteria then Group By. Use DoB Years to Calculate Age First (https://youtu.be/G46GIIRbO-g?t=76)"
   ]
  },
  {
   "cell_type": "code",
   "execution_count": 209,
   "metadata": {
    "id": "AmbR10VsADoN"
   },
   "outputs": [
    {
     "name": "stdout",
     "output_type": "stream",
     "text": [
      " * sqlite:///hubway.db\n",
      "Done.\n"
     ]
    },
    {
     "data": {
      "text/html": [
       "<table>\n",
       "    <thead>\n",
       "        <tr>\n",
       "            <th>count_rides</th>\n",
       "            <th>age_bands</th>\n",
       "        </tr>\n",
       "    </thead>\n",
       "    <tbody>\n",
       "        <tr>\n",
       "            <td>119882</td>\n",
       "            <td>40-49</td>\n",
       "        </tr>\n",
       "    </tbody>\n",
       "</table>"
      ],
      "text/plain": [
       "[(119882, '40-49')]"
      ]
     },
     "execution_count": 209,
     "metadata": {},
     "output_type": "execute_result"
    }
   ],
   "source": [
    "%%sql\n",
    "SELECT\n",
    "    count(DISTINCT id) count_rides,\n",
    "    CASE\n",
    "        WHEN (2023 - birth_date) <= 9 THEN '0-9'\n",
    "        WHEN (2023 - birth_date) >= 10 AND (2023 - birth_date) < 20 THEN '10-19'\n",
    "        WHEN (2023 - birth_date) >= 20 AND (2023 - birth_date) < 30 THEN '20-29'\n",
    "        WHEN (2023 - birth_date) >= 30 AND (2023 - birth_date) < 40 THEN '30-39'\n",
    "        WHEN (2023 - birth_date) >= 40 AND (2023 - birth_date) < 50 THEN '40-49'\n",
    "        WHEN (2023 - birth_date) >= 50 AND (2023 - birth_date) < 60 THEN '50-59'\n",
    "        WHEN (2023 - birth_date) >= 60 AND (2023 - birth_date) < 70 THEN '60-69'\n",
    "        WHEN (2023 - birth_date) >= 70 THEN '70+'\n",
    "    END AS age_bands\n",
    "FROM trips\n",
    "WHERE sub_type = 'Registered' AND birth_date IS NOT NULL\n",
    "GROUP BY age_bands\n",
    "ORDER BY count_rides DESC\n",
    "limit 1;"
   ]
  },
  {
   "cell_type": "markdown",
   "metadata": {
    "id": "xxhjDL_CADoN"
   },
   "source": [
    "# Analyzing Hubway Trips in Python"
   ]
  },
  {
   "cell_type": "code",
   "execution_count": 210,
   "metadata": {
    "colab": {
     "base_uri": "https://localhost:8080/"
    },
    "executionInfo": {
     "elapsed": 16529,
     "status": "ok",
     "timestamp": 1696084707635,
     "user": {
      "displayName": "Mesum Raza Hemani",
      "userId": "02137032281712867702"
     },
     "user_tz": -300
    },
    "id": "gr4kJZRiADoN",
    "outputId": "70342e9a-2450-4e6a-ba76-5ebf95246a60"
   },
   "outputs": [
    {
     "name": "stdout",
     "output_type": "stream",
     "text": [
      "Defaulting to user installation because normal site-packages is not writeable\n"
     ]
    },
    {
     "name": "stderr",
     "output_type": "stream",
     "text": [
      "ERROR: Could not find a version that satisfies the requirement sqlite3 (from versions: none)\n",
      "ERROR: No matching distribution found for sqlite3\n"
     ]
    }
   ],
   "source": [
    "#You will have to install SQLLite Connector using the following command:\n",
    "\n",
    "!pip install sqlite3\n",
    "\n",
    "#Just Execute the cell and it will install"
   ]
  },
  {
   "cell_type": "code",
   "execution_count": 211,
   "metadata": {
    "colab": {
     "base_uri": "https://localhost:8080/"
    },
    "executionInfo": {
     "elapsed": 496,
     "status": "ok",
     "timestamp": 1696084750292,
     "user": {
      "displayName": "Mesum Raza Hemani",
      "userId": "02137032281712867702"
     },
     "user_tz": -300
    },
    "id": "wKsWrjA3ADoN",
    "outputId": "79af1db7-a063-4cad-8be0-afe9d2cd401d"
   },
   "outputs": [
    {
     "name": "stdout",
     "output_type": "stream",
     "text": [
      "1570001\n",
      "142\n",
      "1570001\n",
      "142\n"
     ]
    }
   ],
   "source": [
    "# MANDATORY CELL TO EXECUTE FIRST SO WE HAVE DATA IN THE RIGHT TYPE\n",
    "\n",
    "import sqlite3, pandas as pd, numpy as np\n",
    "\n",
    "cnx = sqlite3.connect('hubway.db')\n",
    "\n",
    "cnx.cursor().executescript(\"\"\"\n",
    "\n",
    "UPDATE trips SET duration       = NULL WHERE duration IS '';\n",
    "UPDATE trips SET start_date     = NULL WHERE start_date IS '';\n",
    "UPDATE trips SET start_station  = NULL WHERE start_station IS '';\n",
    "UPDATE trips SET end_date       = NULL WHERE end_date IS '';\n",
    "UPDATE trips SET end_station    = NULL WHERE end_station IS '';\n",
    "UPDATE trips SET sub_type       = NULL WHERE sub_type IS '';\n",
    "UPDATE trips SET zip_code       = NULL WHERE zip_code IS '';\n",
    "UPDATE trips SET birth_date     = NULL WHERE birth_date IS '';\n",
    "UPDATE trips SET gender         = NULL WHERE gender IS '';\n",
    "\n",
    "\"\"\")\n",
    "\n",
    "trips=pd.read_sql_query(\"SELECT * FROM trips\", cnx)\n",
    "stations=pd.read_sql_query(\"SELECT * FROM stations\", cnx)\n",
    "\n",
    "print(len(trips))\n",
    "print(len(stations))\n",
    "\n",
    "trips=trips\\\n",
    "    .replace(r'^\\s*$', np.nan, regex=True)\\\n",
    "    .astype({\\\n",
    "            'start_date':'datetime64'\\\n",
    "            ,'end_date':'datetime64'\\\n",
    "            ,'start_station':pd.Int64Dtype()\\\n",
    "            ,'end_station':pd.Int64Dtype()\\\n",
    "            ,'birth_date':pd.Int64Dtype()\\\n",
    "            })\n",
    "\n",
    "stations=stations\\\n",
    "    .replace(r'^\\s*$', np.nan, regex=True)\\\n",
    "    .astype({\\\n",
    "            'lat':'float64'\\\n",
    "            ,'lng':'float64'\\\n",
    "            })\n",
    "\n",
    "print(len(trips))\n",
    "print(len(stations))\n",
    "\n",
    "cnx.close()"
   ]
  },
  {
   "cell_type": "code",
   "execution_count": 212,
   "metadata": {
    "colab": {
     "base_uri": "https://localhost:8080/"
    },
    "executionInfo": {
     "elapsed": 505,
     "status": "ok",
     "timestamp": 1696084829012,
     "user": {
      "displayName": "Mesum Raza Hemani",
      "userId": "02137032281712867702"
     },
     "user_tz": -300
    },
    "id": "0vOowduvADoN",
    "outputId": "7d14cb71-014f-4ae4-eac1-748b489e5090"
   },
   "outputs": [
    {
     "name": "stdout",
     "output_type": "stream",
     "text": [
      "   id  duration          start_date  start_station            end_date  \\\n",
      "0   1         9 2011-07-28 10:12:00             23 2011-07-28 10:12:00   \n",
      "1   2       220 2011-07-28 10:21:00             23 2011-07-28 10:25:00   \n",
      "2   3        56 2011-07-28 10:33:00             23 2011-07-28 10:34:00   \n",
      "3   4        64 2011-07-28 10:35:00             23 2011-07-28 10:36:00   \n",
      "4   5        12 2011-07-28 10:37:00             23 2011-07-28 10:37:00   \n",
      "\n",
      "   end_station bike_number    sub_type zip_code  birth_date  gender  \n",
      "0           23      B00468  Registered   '97217        1976    Male  \n",
      "1           23      B00554  Registered   '02215        1966    Male  \n",
      "2           23      B00456  Registered   '02108        1943    Male  \n",
      "3           23      B00554  Registered   '02116        1981  Female  \n",
      "4           23      B00554  Registered   '97214        1983  Female  \n",
      "\n",
      " ------- \n",
      "\n",
      "   id                             station municipality        lat        lng\n",
      "0   3              Colleges of the Fenway       Boston  42.340021 -71.100812\n",
      "1   4         Tremont St. at Berkeley St.       Boston  42.345392 -71.069616\n",
      "2   5  Northeastern U / North Parking Lot       Boston  42.341814 -71.090179\n",
      "3   6            Cambridge St. at Joy St.       Boston  42.361285 -71.065140\n",
      "4   7                            Fan Pier       Boston  42.353412 -71.044624\n"
     ]
    }
   ],
   "source": [
    "# CHECKING IF THE DATA IS LOAD INTO RIGHT TABLES IN PYTHON DF\n",
    "\n",
    "print(trips.head(5))\n",
    "\n",
    "print('\\n ------- \\n')\n",
    "\n",
    "print(stations.head(5))"
   ]
  },
  {
   "cell_type": "code",
   "execution_count": 213,
   "metadata": {
    "colab": {
     "base_uri": "https://localhost:8080/",
     "height": 81
    },
    "executionInfo": {
     "elapsed": 513,
     "status": "ok",
     "timestamp": 1696084848257,
     "user": {
      "displayName": "Mesum Raza Hemani",
      "userId": "02137032281712867702"
     },
     "user_tz": -300
    },
    "id": "rbDIWWVUADoN",
    "outputId": "a3136c43-3104-47a7-dd48-084ebb99ba9b"
   },
   "outputs": [
    {
     "data": {
      "text/html": [
       "<div>\n",
       "<style scoped>\n",
       "    .dataframe tbody tr th:only-of-type {\n",
       "        vertical-align: middle;\n",
       "    }\n",
       "\n",
       "    .dataframe tbody tr th {\n",
       "        vertical-align: top;\n",
       "    }\n",
       "\n",
       "    .dataframe thead th {\n",
       "        text-align: right;\n",
       "    }\n",
       "</style>\n",
       "<table border=\"1\" class=\"dataframe\">\n",
       "  <thead>\n",
       "    <tr style=\"text-align: right;\">\n",
       "      <th></th>\n",
       "      <th>mean</th>\n",
       "      <th>min</th>\n",
       "      <th>max</th>\n",
       "    </tr>\n",
       "  </thead>\n",
       "  <tbody>\n",
       "    <tr>\n",
       "      <th>duration</th>\n",
       "      <td>912.409682</td>\n",
       "      <td>0.0</td>\n",
       "      <td>9999.0</td>\n",
       "    </tr>\n",
       "  </tbody>\n",
       "</table>\n",
       "</div>"
      ],
      "text/plain": [
       "                mean  min     max\n",
       "duration  912.409682  0.0  9999.0"
      ]
     },
     "execution_count": 213,
     "metadata": {},
     "output_type": "execute_result"
    }
   ],
   "source": [
    "# EXAMPLE SOLUTION, REMEMBER YOUR ANSWER SHOULD BE PRECISE AND ON POINT (SORTED AND IN RIGHT FORMAT)\n",
    "\n",
    "##PYTHON SOLUTION\n",
    "\n",
    "trips.agg({'duration': ['mean', 'min', 'max']}).T"
   ]
  },
  {
   "cell_type": "code",
   "execution_count": 214,
   "metadata": {
    "scrolled": true
   },
   "outputs": [
    {
     "data": {
      "text/html": [
       "<div>\n",
       "<style scoped>\n",
       "    .dataframe tbody tr th:only-of-type {\n",
       "        vertical-align: middle;\n",
       "    }\n",
       "\n",
       "    .dataframe tbody tr th {\n",
       "        vertical-align: top;\n",
       "    }\n",
       "\n",
       "    .dataframe thead th {\n",
       "        text-align: right;\n",
       "    }\n",
       "</style>\n",
       "<table border=\"1\" class=\"dataframe\">\n",
       "  <thead>\n",
       "    <tr style=\"text-align: right;\">\n",
       "      <th></th>\n",
       "      <th>id</th>\n",
       "      <th>duration</th>\n",
       "      <th>start_date</th>\n",
       "      <th>start_station</th>\n",
       "      <th>end_date</th>\n",
       "      <th>end_station</th>\n",
       "      <th>bike_number</th>\n",
       "      <th>sub_type</th>\n",
       "      <th>zip_code</th>\n",
       "      <th>birth_date</th>\n",
       "      <th>gender</th>\n",
       "    </tr>\n",
       "  </thead>\n",
       "  <tbody>\n",
       "    <tr>\n",
       "      <th>0</th>\n",
       "      <td>1</td>\n",
       "      <td>9</td>\n",
       "      <td>2011-07-28 10:12:00</td>\n",
       "      <td>23</td>\n",
       "      <td>2011-07-28 10:12:00</td>\n",
       "      <td>23</td>\n",
       "      <td>B00468</td>\n",
       "      <td>Registered</td>\n",
       "      <td>'97217</td>\n",
       "      <td>1976</td>\n",
       "      <td>Male</td>\n",
       "    </tr>\n",
       "    <tr>\n",
       "      <th>1</th>\n",
       "      <td>2</td>\n",
       "      <td>220</td>\n",
       "      <td>2011-07-28 10:21:00</td>\n",
       "      <td>23</td>\n",
       "      <td>2011-07-28 10:25:00</td>\n",
       "      <td>23</td>\n",
       "      <td>B00554</td>\n",
       "      <td>Registered</td>\n",
       "      <td>'02215</td>\n",
       "      <td>1966</td>\n",
       "      <td>Male</td>\n",
       "    </tr>\n",
       "    <tr>\n",
       "      <th>2</th>\n",
       "      <td>3</td>\n",
       "      <td>56</td>\n",
       "      <td>2011-07-28 10:33:00</td>\n",
       "      <td>23</td>\n",
       "      <td>2011-07-28 10:34:00</td>\n",
       "      <td>23</td>\n",
       "      <td>B00456</td>\n",
       "      <td>Registered</td>\n",
       "      <td>'02108</td>\n",
       "      <td>1943</td>\n",
       "      <td>Male</td>\n",
       "    </tr>\n",
       "    <tr>\n",
       "      <th>3</th>\n",
       "      <td>4</td>\n",
       "      <td>64</td>\n",
       "      <td>2011-07-28 10:35:00</td>\n",
       "      <td>23</td>\n",
       "      <td>2011-07-28 10:36:00</td>\n",
       "      <td>23</td>\n",
       "      <td>B00554</td>\n",
       "      <td>Registered</td>\n",
       "      <td>'02116</td>\n",
       "      <td>1981</td>\n",
       "      <td>Female</td>\n",
       "    </tr>\n",
       "    <tr>\n",
       "      <th>4</th>\n",
       "      <td>5</td>\n",
       "      <td>12</td>\n",
       "      <td>2011-07-28 10:37:00</td>\n",
       "      <td>23</td>\n",
       "      <td>2011-07-28 10:37:00</td>\n",
       "      <td>23</td>\n",
       "      <td>B00554</td>\n",
       "      <td>Registered</td>\n",
       "      <td>'97214</td>\n",
       "      <td>1983</td>\n",
       "      <td>Female</td>\n",
       "    </tr>\n",
       "  </tbody>\n",
       "</table>\n",
       "</div>"
      ],
      "text/plain": [
       "   id  duration          start_date  start_station            end_date  \\\n",
       "0   1         9 2011-07-28 10:12:00             23 2011-07-28 10:12:00   \n",
       "1   2       220 2011-07-28 10:21:00             23 2011-07-28 10:25:00   \n",
       "2   3        56 2011-07-28 10:33:00             23 2011-07-28 10:34:00   \n",
       "3   4        64 2011-07-28 10:35:00             23 2011-07-28 10:36:00   \n",
       "4   5        12 2011-07-28 10:37:00             23 2011-07-28 10:37:00   \n",
       "\n",
       "   end_station bike_number    sub_type zip_code  birth_date  gender  \n",
       "0           23      B00468  Registered   '97217        1976    Male  \n",
       "1           23      B00554  Registered   '02215        1966    Male  \n",
       "2           23      B00456  Registered   '02108        1943    Male  \n",
       "3           23      B00554  Registered   '02116        1981  Female  \n",
       "4           23      B00554  Registered   '97214        1983  Female  "
      ]
     },
     "execution_count": 214,
     "metadata": {},
     "output_type": "execute_result"
    }
   ],
   "source": [
    "trips.head()\n",
    "\n"
   ]
  },
  {
   "cell_type": "code",
   "execution_count": 215,
   "metadata": {
    "id": "Q-sS7oEpADoO"
   },
   "outputs": [
    {
     "data": {
      "text/plain": [
       "1105192"
      ]
     },
     "execution_count": 215,
     "metadata": {},
     "output_type": "execute_result"
    }
   ],
   "source": [
    "## SOLUTION TO QUESTION 2\n",
    "\n",
    "##Q2. How many trips were taken by 'Registered' users?\n",
    "\n",
    "# INSERT CODE HERE\n",
    "\n",
    "(trips['sub_type'] == 'Registered').sum()"
   ]
  },
  {
   "cell_type": "markdown",
   "metadata": {},
   "source": [
    "#### 1105192 trips were taken by Registered users."
   ]
  },
  {
   "cell_type": "code",
   "execution_count": 216,
   "metadata": {
    "id": "_jz_-LU7ADoO"
   },
   "outputs": [
    {
     "name": "stdout",
     "output_type": "stream",
     "text": [
      "['Male' 'Female' None 'Female\\n']\n"
     ]
    },
    {
     "data": {
      "text/plain": [
       "Male      833858\n",
       "Female    271334\n",
       "Name: gender, dtype: int64"
      ]
     },
     "execution_count": 216,
     "metadata": {},
     "output_type": "execute_result"
    }
   ],
   "source": [
    "## SOLUTION TO QUESTION 3\n",
    "\n",
    "##Q3. How many trips were taken by male users in comparison to Female users? for Registered users only\n",
    "\n",
    "# INSERT CODE HERE\n",
    "\n",
    "print(trips['gender'].unique())  # checking unique values of gender\n",
    "\n",
    "trips['gender'] = trips['gender'].replace('Female\\n' , 'Female')   # cleaning gender values of female\n",
    "\n",
    "registered = trips[trips['sub_type'] == 'Registered']    # selecting registered users only\n",
    "\n",
    "registered['gender'].value_counts()       # counts of users\n",
    "\n"
   ]
  },
  {
   "cell_type": "markdown",
   "metadata": {},
   "source": [
    "#### Registered male users took significantly more trips than Registered female users.\n",
    "\n",
    "\n"
   ]
  },
  {
   "cell_type": "code",
   "execution_count": 217,
   "metadata": {
    "id": "A-JkaJ08ADoO"
   },
   "outputs": [
    {
     "data": {
      "text/plain": [
       "sub_type\n",
       "Casual        1519.643897\n",
       "Registered     657.026067\n",
       "Name: duration, dtype: float64"
      ]
     },
     "execution_count": 217,
     "metadata": {},
     "output_type": "execute_result"
    }
   ],
   "source": [
    "## SOLUTION TO QUESTION 4\n",
    "\n",
    "##Q4. Do registered or casual users take longer trips?\n",
    "# INSERT CODE HERE\n",
    "\n",
    "users_duration_mean =  trips.groupby('sub_type')['duration'].mean()\n",
    "\n",
    "users_duration_mean"
   ]
  },
  {
   "cell_type": "markdown",
   "metadata": {},
   "source": [
    "#### Casual users : 1519.64 (seconds)\n",
    "\n",
    "#### Registered users : 657.02 (seconds)\n",
    "\n",
    "###  From the above data, it is shown that Casual users take longer trips on average compared to Registered users.\n"
   ]
  },
  {
   "cell_type": "code",
   "execution_count": 218,
   "metadata": {
    "id": "pgcQ1rPZADoO"
   },
   "outputs": [
    {
     "data": {
      "text/plain": [
       "B00490    2120\n",
       "Name: bike_number, dtype: int64"
      ]
     },
     "execution_count": 218,
     "metadata": {},
     "output_type": "execute_result"
    }
   ],
   "source": [
    "## SOLUTION TO QUESTION 5\n",
    "##Q5. Which bike was used for the most trips?\n",
    "\n",
    "# INSERT CODE HERE\n",
    "\n",
    "bike_most_trips = trips['bike_number'].value_counts().head(1)\n",
    "bike_most_trips"
   ]
  },
  {
   "cell_type": "markdown",
   "metadata": {},
   "source": [
    "#### Bike B00490 has most trips."
   ]
  },
  {
   "cell_type": "code",
   "execution_count": 219,
   "metadata": {
    "id": "qssXWctPADoO"
   },
   "outputs": [
    {
     "data": {
      "text/plain": [
       "658.4913889465072"
      ]
     },
     "execution_count": 219,
     "metadata": {},
     "output_type": "execute_result"
    }
   ],
   "source": [
    "## SOLUTION TO QUESTION 6\n",
    "\n",
    "# INSERT CODE HERE\n",
    "\n",
    "## Q6. What is the average duration of trips by users over the age of 30?\n",
    "\n",
    "current_year = pd.Timestamp.now().year\n",
    "\n",
    "trips['age'] = current_year - trips['birth_date']   # calculating age \n",
    "\n",
    "average_duration = trips[trips['age'] > 30]['duration'].mean()\n",
    "\n",
    "average_duration"
   ]
  },
  {
   "cell_type": "markdown",
   "metadata": {},
   "source": [
    "#### The average duration of trips taken by users over the age of 30 is approximately 658.49 seconds ."
   ]
  },
  {
   "cell_type": "code",
   "execution_count": 222,
   "metadata": {
    "id": "5zMTL2SAADoO"
   },
   "outputs": [
    {
     "data": {
      "text/html": [
       "<div>\n",
       "<style scoped>\n",
       "    .dataframe tbody tr th:only-of-type {\n",
       "        vertical-align: middle;\n",
       "    }\n",
       "\n",
       "    .dataframe tbody tr th {\n",
       "        vertical-align: top;\n",
       "    }\n",
       "\n",
       "    .dataframe thead th {\n",
       "        text-align: right;\n",
       "    }\n",
       "</style>\n",
       "<table border=\"1\" class=\"dataframe\">\n",
       "  <thead>\n",
       "    <tr style=\"text-align: right;\">\n",
       "      <th></th>\n",
       "      <th>no_round_trips</th>\n",
       "    </tr>\n",
       "    <tr>\n",
       "      <th>station</th>\n",
       "      <th></th>\n",
       "    </tr>\n",
       "  </thead>\n",
       "  <tbody>\n",
       "    <tr>\n",
       "      <th>The Esplanade - Beacon St. at Arlington St.</th>\n",
       "      <td>3064</td>\n",
       "    </tr>\n",
       "    <tr>\n",
       "      <th>Charles Circle - Charles St. at Cambridge St.</th>\n",
       "      <td>2739</td>\n",
       "    </tr>\n",
       "    <tr>\n",
       "      <th>Boston Public Library - 700 Boylston St.</th>\n",
       "      <td>2548</td>\n",
       "    </tr>\n",
       "    <tr>\n",
       "      <th>Boylston St. at Arlington St.</th>\n",
       "      <td>2163</td>\n",
       "    </tr>\n",
       "    <tr>\n",
       "      <th>Beacon St / Mass Ave</th>\n",
       "      <td>2144</td>\n",
       "    </tr>\n",
       "  </tbody>\n",
       "</table>\n",
       "</div>"
      ],
      "text/plain": [
       "                                               no_round_trips\n",
       "station                                                      \n",
       "The Esplanade - Beacon St. at Arlington St.              3064\n",
       "Charles Circle - Charles St. at Cambridge St.            2739\n",
       "Boston Public Library - 700 Boylston St.                 2548\n",
       "Boylston St. at Arlington St.                            2163\n",
       "Beacon St / Mass Ave                                     2144"
      ]
     },
     "execution_count": 222,
     "metadata": {},
     "output_type": "execute_result"
    }
   ],
   "source": [
    "## SOLUTION TO QUESTION 7\n",
    "\n",
    "##Q7. Which stations are most frequently used for round trips?\n",
    "\n",
    "# INSERT CODE HERE\n",
    "\n",
    "#round_trips = trips[trips['start_station'] == trips['end_station']]\n",
    "#round_trips['start_station'].value_counts().head(5)\n",
    "\n",
    "round_trips = trips[trips['start_station'] == trips['end_station']]\n",
    "\n",
    "# Perform left join with stations dataframe\n",
    "merged_data = round_trips.merge(stations, left_on='start_station', right_on='id', how='left')\n",
    "\n",
    "# Group by station name and count distinct trip IDs\n",
    "round_trip_counts = merged_data.groupby('station').agg(no_round_trips=('id_x', 'nunique'))\n",
    "\n",
    "# Step 4: Sort the results by count in descending order\n",
    "sorted_round_trip_counts = round_trip_counts.sort_values(by='no_round_trips', ascending=False)\n",
    "\n",
    "sorted_round_trip_counts.head()\n"
   ]
  },
  {
   "cell_type": "code",
   "execution_count": 223,
   "metadata": {
    "id": "3u4Ej24CADoO"
   },
   "outputs": [],
   "source": [
    "## SOLUTION TO QUESTION 8\n",
    "\n",
    "## Q8. How many trips start and end in different municipalities?\n",
    "\n",
    "# INSERT CODE HERE\n"
   ]
  },
  {
   "cell_type": "code",
   "execution_count": 224,
   "metadata": {},
   "outputs": [
    {
     "data": {
      "text/plain": [
       "id                     0\n",
       "duration               0\n",
       "start_date             0\n",
       "start_station         13\n",
       "end_date               0\n",
       "end_station           28\n",
       "bike_number          450\n",
       "sub_type               0\n",
       "zip_code          464988\n",
       "birth_date       1219985\n",
       "gender            464809\n",
       "age              1219985\n",
       "dtype: int64"
      ]
     },
     "execution_count": 224,
     "metadata": {},
     "output_type": "execute_result"
    }
   ],
   "source": [
    "  \n",
    "# chaecking null values of start station tu merge the dataframe with stations\n",
    "trips.isnull().sum() "
   ]
  },
  {
   "cell_type": "code",
   "execution_count": 225,
   "metadata": {},
   "outputs": [
    {
     "name": "stdout",
     "output_type": "stream",
     "text": [
      "Null values in start_station :  13\n",
      "Percentage of missing values in dataset :  0.0008280249503025795\n",
      "\n",
      "Null values in end_station :  28\n",
      "Percentage of missing values in dataset :  0.0017834383544978634\n"
     ]
    }
   ],
   "source": [
    "# Calculating the percentage of missing values in the \"start_station\" column\n",
    "missing_percentage_start = (trips['start_station'].isna().sum() / len(trips)) * 100\n",
    "missing_percentage_end = (trips['end_station'].isna().sum() / len(trips)) * 100\n",
    "\n",
    "print(\"Null values in start_station : \" , trips['start_station'].isna().sum())\n",
    "print('Percentage of missing values in dataset : '  ,missing_percentage_start)\n",
    "\n",
    "print(\"\\nNull values in end_station : \" , trips['end_station'].isna().sum())\n",
    "print('Percentage of missing values in dataset : '  ,missing_percentage_end)"
   ]
  },
  {
   "cell_type": "markdown",
   "metadata": {},
   "source": [
    " The missing data percentage is extremely low that's why dropping the missing values from the data set."
   ]
  },
  {
   "cell_type": "code",
   "execution_count": 226,
   "metadata": {},
   "outputs": [],
   "source": [
    "\n",
    "# Exclude rows with missing start_station or end_station\n",
    "filtered_trips = trips.dropna(subset=['start_station', 'end_station'])"
   ]
  },
  {
   "cell_type": "code",
   "execution_count": 227,
   "metadata": {},
   "outputs": [
    {
     "data": {
      "text/plain": [
       "309748"
      ]
     },
     "execution_count": 227,
     "metadata": {},
     "output_type": "execute_result"
    }
   ],
   "source": [
    "# Merge the trips dataset with the stations dataset for start_station\n",
    "trips_with_start_municipality = pd.merge(filtered_trips, stations[['id', 'municipality']], left_on='start_station', right_on='id', how='left')\n",
    "trips_with_start_municipality = trips_with_start_municipality.rename(columns={'municipality': 'start_municipality'})\n",
    "\n",
    "# Merge the trips dataset with the stations dataset for end_station\n",
    "trips_with_both_municipalities = pd.merge(trips_with_start_municipality, stations[['id', 'municipality']], left_on='end_station', right_on='id', how='left')\n",
    "trips_with_both_municipalities = trips_with_both_municipalities.rename(columns={'municipality': 'end_municipality'})\n",
    "\n",
    "# Count the trips where the start and end municipalities are different\n",
    "different_municipalities_count = trips_with_both_municipalities[trips_with_both_municipalities['start_municipality'] != trips_with_both_municipalities['end_municipality']].shape[0]\n",
    "\n",
    "different_municipalities_count\n",
    " "
   ]
  },
  {
   "cell_type": "markdown",
   "metadata": {},
   "source": [
    "#### 309748 trips start and end in different municipalities"
   ]
  },
  {
   "cell_type": "code",
   "execution_count": 228,
   "metadata": {
    "id": "qdX-MbjNADoO"
   },
   "outputs": [
    {
     "data": {
      "text/plain": [
       "123155"
      ]
     },
     "execution_count": 228,
     "metadata": {},
     "output_type": "execute_result"
    }
   ],
   "source": [
    "## SOLUTION TO QUESTION 9\n",
    "\n",
    "## Q9. How many trips incurred additional fees (lasted longer than 30 minutes)?\n",
    "# INSERT CODE HERE\n",
    "\n",
    "duration_in_mins= trips['duration']/60\n",
    "min_duration_greater_than_30 = duration_in_mins[duration_in_mins > 30]\n",
    "(min_duration_greater_than_30).count()\n",
    "#min_duration_greater_than_30"
   ]
  },
  {
   "cell_type": "markdown",
   "metadata": {},
   "source": [
    "### There are 123155 trips incurred additional fees."
   ]
  },
  {
   "cell_type": "code",
   "execution_count": 229,
   "metadata": {
    "id": "-a-LcD3NADoO"
   },
   "outputs": [
    {
     "data": {
      "text/plain": [
       "bike_number\n",
       "B00490    571.845278\n",
       "Name: duration_hour, dtype: float64"
      ]
     },
     "execution_count": 229,
     "metadata": {},
     "output_type": "execute_result"
    }
   ],
   "source": [
    "## SOLUTION TO QUESTION 10\n",
    "\n",
    "##Q10. Which bike was used for the longest total time? Provide the answer in Hours\n",
    "\n",
    "#Hint: Use an Group by Bike Number to sum Duration in Seconds and Limit Result to 1\n",
    "# INSERT CODE HERE\n",
    "\n",
    "trips['duration_hour'] = trips['duration']/3600\n",
    "\n",
    "most_used_bike = trips.groupby('bike_number')['duration_hour'].sum().sort_values(ascending =  False)\n",
    "most_used_bike.head(1)"
   ]
  },
  {
   "cell_type": "markdown",
   "metadata": {},
   "source": [
    "#### Bike number B00490 was used for longest total time that is 571.845 hours approx ."
   ]
  },
  {
   "cell_type": "code",
   "execution_count": 230,
   "metadata": {
    "id": "CJdmMWsRADoO"
   },
   "outputs": [
    {
     "name": "stdout",
     "output_type": "stream",
     "text": [
      "Casual        41427\n",
      "Registered    31635\n",
      "Name: sub_type, dtype: int64\n"
     ]
    },
    {
     "data": {
      "text/plain": [
       "sub_type\n",
       "Casual        41427\n",
       "Registered    31635\n",
       "dtype: int64"
      ]
     },
     "execution_count": 230,
     "metadata": {},
     "output_type": "execute_result"
    }
   ],
   "source": [
    "## SOLUTION TO QUESTION 11\n",
    "\n",
    "## Q11. Did registered or casual users take more round trips?\n",
    "\n",
    "#Hint: Recall Q7 and Modify your query to answer by Sub Type\n",
    "# INSERT CODE HERE\n",
    "\n",
    "#method 1\n",
    "round_trips = trips[trips['start_station'] == trips['end_station']]\n",
    "print(round_trips['sub_type'].value_counts())\n",
    "\n",
    "\n",
    "#method 2\n",
    "# Group round trips by 'sub_type' and count the occurrences for each type\n",
    "round_trips_counts = trips[trips['start_station'] == trips['end_station']]\n",
    "round_trips_counts.groupby('sub_type').size()"
   ]
  },
  {
   "cell_type": "markdown",
   "metadata": {},
   "source": [
    "#### Casual users = 41427\n",
    "#### Registered users = 31635\n",
    "\n",
    "#### Casual users took more round trips as compared to Registered users."
   ]
  },
  {
   "cell_type": "code",
   "execution_count": 231,
   "metadata": {
    "id": "o2ImNrM2ADoO"
   },
   "outputs": [
    {
     "data": {
      "text/plain": [
       "Boston    1212364\n",
       "Name: municipality, dtype: int64"
      ]
     },
     "execution_count": 231,
     "metadata": {},
     "output_type": "execute_result"
    }
   ],
   "source": [
    "## SOLUTION TO QUESTION 12\n",
    "\n",
    "\n",
    "#Q12. Which municipality had the most frequent Station End?\n",
    "\n",
    "#Hint: Join the Station table on End Station and then Group by Municipality to find answer\n",
    "\n",
    "# INSERT CODE HERE\n",
    "\n",
    "filtered_trips = trips[trips['end_station'].notna()]\n",
    "merged_df = pd.merge(filtered_trips, stations, left_on='end_station', right_on='id')\n",
    "\n",
    "# Group by municipality and count\n",
    "merged_df['municipality'].value_counts().head(1)"
   ]
  },
  {
   "cell_type": "code",
   "execution_count": 232,
   "metadata": {
    "id": "tmSZ9CBhADoP"
   },
   "outputs": [
    {
     "data": {
      "text/plain": [
       "(Boston, Boston)    1081805\n",
       "Name: route, dtype: int64"
      ]
     },
     "execution_count": 232,
     "metadata": {},
     "output_type": "execute_result"
    }
   ],
   "source": [
    "## SOLUTION TO QUESTION 13\n",
    "\n",
    "# Q13. Which From and To Routes are Frequent with Regards to Municipalities?\n",
    "# INSERT CODE HERE\n",
    "\n",
    "# Step 1 : Create a dictionary mapping station IDs to their corresponding municipalities using the zip function.\n",
    "station_to_municipality = dict(zip(stations['id'], stations['municipality']))\n",
    "\n",
    "# Step 2: Create Routes\n",
    "trips['start_municipality'] = trips['start_station'].map(station_to_municipality)\n",
    "trips['end_municipality'] = trips['end_station'].map(station_to_municipality)\n",
    "trips['route'] = trips[['start_municipality', 'end_municipality']].apply(tuple, axis=1)\n",
    "\n",
    "\n",
    "\n",
    "#trips.groupby(['start_municipality','end_municipality'])['id'].count().max()   # method 1\n",
    "\n",
    "# Step 3: Count Routes   # method 2\n",
    "count_routes = trips['route'].value_counts()\n",
    "count_routes.head(1)\n"
   ]
  },
  {
   "cell_type": "code",
   "execution_count": null,
   "metadata": {},
   "outputs": [],
   "source": []
  },
  {
   "cell_type": "code",
   "execution_count": 233,
   "metadata": {},
   "outputs": [
    {
     "data": {
      "text/plain": [
       "age_bands\n",
       "40-49    119882\n",
       "Name: sub_type, dtype: int64"
      ]
     },
     "execution_count": 233,
     "metadata": {},
     "output_type": "execute_result"
    }
   ],
   "source": [
    "## SOLUTION TO QUESTION 14 (MINI CHALLENGE)\n",
    "\n",
    "#HELP HINT: https://stackoverflow.com/questions/34165876/trying-to-create-grouped-variable-in-python\n",
    "\n",
    "# INSERT CODE HERE\n",
    "\n",
    "##Q14. Which Age Band in \"Registered Users\" has the most Rides? Calculate Age Bands based on interval of 10 and Cut Off by 70 or Above\n",
    "\n",
    "## age column is already created in above questions..so moving forward to solve this question\n",
    "\n",
    "#  bins and labels for age bands with interval of 10 and cutoff at 70 or above\n",
    "\n",
    "bins = [0, 10, 20, 30, 40, 50, 60, 70, 100]\n",
    "labels = ['0-9', '10-19', '20-29', '30-39', '40-49', '50-59', '60-69', '70+']\n",
    "\n",
    "# Create age bands\n",
    "trips['age_bands'] = pd.cut(trips['age'], bins=bins, labels=labels, right=False)\n",
    "\n",
    "trips['age_bands'].value_counts().sort_index()\n",
    "\n",
    "trips.groupby('age_bands')['sub_type'].count().sort_values(ascending = False).head(1)"
   ]
  },
  {
   "cell_type": "markdown",
   "metadata": {},
   "source": [
    "####  The age band \"40-49\" among \"Registered Users\" has the most rides."
   ]
  },
  {
   "cell_type": "markdown",
   "metadata": {
    "id": "oYGpjiw8ADoP"
   },
   "source": [
    "### BONUS PYTHON QUESTION (10 Marks)\n",
    "\n",
    "##### Can you show a Report in Python \"What are the Top 5 States with Most Number of Rides\" For Registered Users Only\n",
    "\n",
    "##### Hints :\n",
    "\n",
    "1. Use the Sampled Dataframe for your working, else it would take a lot of time to convert many rows in Original table.\n",
    "\n",
    "2. You will need Data Type Conversion and Cleaning of Zip Code (Don't fear errors / Learn from them)\n",
    "\n",
    "3. Where do you get the States? READ THE CELL BELOW\n",
    "\n",
    "!pip install zipcodes\n",
    "\n",
    "print('\\n')\n",
    "\n",
    "import zipcodes\n",
    "\n",
    "##### Gets All the Information Available against ZipCode\n",
    "\n",
    "print(zipcodes.matching('77429')[0].keys())\n",
    "\n",
    "['zip_code', 'zip_code_type', 'active', 'city', 'acceptable_cities', 'unacceptable_cities', 'state', 'county', 'timezone', 'area_codes', 'world_region', 'country', 'lat', 'long']\n",
    "\n",
    "##### Sample Working how to Fetch a Against a ZipCode\n",
    "\n",
    "zipcodes.matching('77429')[0].get('state')\n",
    "\n",
    "READ MORE > https://github.com/seanpianka/Zipcodes\n"
   ]
  },
  {
   "cell_type": "code",
   "execution_count": 234,
   "metadata": {},
   "outputs": [
    {
     "name": "stdout",
     "output_type": "stream",
     "text": [
      "Defaulting to user installation because normal site-packages is not writeable\n",
      "Requirement already satisfied: zipcodes in c:\\users\\hp\\appdata\\roaming\\python\\python310\\site-packages (1.2.0)\n"
     ]
    }
   ],
   "source": [
    "!pip install zipcodes"
   ]
  },
  {
   "cell_type": "code",
   "execution_count": 235,
   "metadata": {},
   "outputs": [],
   "source": [
    "import zipcodes"
   ]
  },
  {
   "cell_type": "code",
   "execution_count": 236,
   "metadata": {
    "id": "sSPIRkL8ADoP"
   },
   "outputs": [],
   "source": [
    "#EXECUTE THIS CELL TO CREATE SAMPLED DATAFRAME\n",
    "\n",
    "registered_trips_sampled=trips.query(\"sub_type=='Registered'\").groupby('zip_code').apply(lambda x: x.sample(10, replace=True)).reset_index(drop = True)"
   ]
  },
  {
   "cell_type": "code",
   "execution_count": 237,
   "metadata": {},
   "outputs": [
    {
     "data": {
      "text/plain": [
       "0"
      ]
     },
     "execution_count": 237,
     "metadata": {},
     "output_type": "execute_result"
    }
   ],
   "source": [
    "registered_trips_sampled['zip_code'].isna().sum()   # just checking nan values.."
   ]
  },
  {
   "cell_type": "code",
   "execution_count": null,
   "metadata": {},
   "outputs": [],
   "source": []
  },
  {
   "cell_type": "code",
   "execution_count": 238,
   "metadata": {
    "id": "S-F7MA76ADoP",
    "outputId": "8d1a68c1-b151-4543-f3fe-a83cb088e12e"
   },
   "outputs": [
    {
     "name": "stdout",
     "output_type": "stream",
     "text": [
      "0    '00210\n",
      "1    '00210\n",
      "2    '00210\n",
      "3    '00210\n",
      "4    '00210\n",
      "Name: zip_code, dtype: object\n",
      "\n",
      "--------Cleaned zipcodes--------\n",
      "\n",
      "0    00210\n",
      "1    00210\n",
      "2    00210\n",
      "3    00210\n",
      "4    00210\n",
      "Name: zip_code, dtype: object\n",
      "(5300,)\n"
     ]
    }
   ],
   "source": [
    "## YOUR REPORT SOLUTION IN PYTHON\n",
    "\n",
    "# USE registered_trips_sampled Dataframe and temporarily work on column zip_code by storing in variable 'x'\n",
    "\n",
    "x=registered_trips_sampled['zip_code']\n",
    "\n",
    "# CLEAN zip_code COLUMN FROM PUNCTUATIONS\n",
    "print(x.head())\n",
    "x= x.str.replace(\"'\" , '')    # cleaned the zipcodes\n",
    "print('\\n--------Cleaned zipcodes--------\\n')\n",
    "print(x.head())\n",
    "\n",
    "# REPLACE NAN VALUES WITH STRING '0' FOR API TO WORK\n",
    "x = x.fillna('0')\n",
    "print(x.shape)\n",
    "\n",
    "# TRY TO USE LAMBDA FUNCTION IN PYTHON TO GET STATE FOR EACH ROW, ONCE YOUR ARE DONE WITH ABOVE STEPS\n",
    "get_state = lambda zip_code: zipcodes.matching(zip_code)[0]['state'] if zipcodes.matching(zip_code) else 'N/A'\n",
    "# TRY TO USE LAMBDA FUNCTION IN PYTHON TO GET STATE FOR EACH ROW, ONCE YOUR ARE DONE WITH ABOVE STEPS\n",
    "\n",
    "#state_function = (lambda z: zipcodes.matching(z)[0].get('state') )\n",
    "#registered_trips_sampled['state'] = x.apply(state_function,convert_dtype=False)\n",
    "\n",
    "# SAVE THE OUTPUT INTO A COLUMN NAMED AS registered_trips_sampled['state']\n",
    "\n",
    "#registered_trips_sampled['state']=x"
   ]
  },
  {
   "cell_type": "code",
   "execution_count": 239,
   "metadata": {
    "scrolled": true
   },
   "outputs": [],
   "source": [
    "# SAVE THE OUTPUT INTO A COLUMN NAMED AS registered_trips_sampled['state']\n",
    "registered_trips_sampled['state'] = x.apply(get_state)\n"
   ]
  },
  {
   "cell_type": "code",
   "execution_count": 240,
   "metadata": {},
   "outputs": [
    {
     "data": {
      "text/plain": [
       "array(['N/A', 'MA', 'RI', 'NH', 'ME', 'VT', 'CT', 'NJ', 'NY', 'PA', 'DC',\n",
       "       'VA', 'MD', 'NC', 'GA', 'FL', 'AL', 'OH', 'MI', 'WI', 'MN', 'IL',\n",
       "       'LA', 'TX', 'CO', 'UT', 'CA', 'OR', 'WA'], dtype=object)"
      ]
     },
     "execution_count": 240,
     "metadata": {},
     "output_type": "execute_result"
    }
   ],
   "source": [
    "registered_trips_sampled['state'].unique()"
   ]
  },
  {
   "cell_type": "code",
   "execution_count": 241,
   "metadata": {
    "id": "vFr0WvnhADoP"
   },
   "outputs": [],
   "source": [
    "# WE WILL USE THIS DICTIONARY TO MAP STATE NAMES INSTEAD OF ABBREVIATIONS\n",
    "\n",
    "state_names = {\n",
    "        'AK': 'Alaska',\n",
    "        'AL': 'Alabama',\n",
    "        'AR': 'Arkansas',\n",
    "        'AS': 'American Samoa',\n",
    "        'AZ': 'Arizona',\n",
    "        'CA': 'California',\n",
    "        'CO': 'Colorado',\n",
    "        'CT': 'Connecticut',\n",
    "        'DC': 'District of Columbia',\n",
    "        'DE': 'Delaware',\n",
    "        'FL': 'Florida',\n",
    "        'GA': 'Georgia',\n",
    "        'GU': 'Guam',\n",
    "        'HI': 'Hawaii',\n",
    "        'IA': 'Iowa',\n",
    "        'ID': 'Idaho',\n",
    "        'IL': 'Illinois',\n",
    "        'IN': 'Indiana',\n",
    "        'KS': 'Kansas',\n",
    "        'KY': 'Kentucky',\n",
    "        'LA': 'Louisiana',\n",
    "        'MA': 'Massachusetts',\n",
    "        'MD': 'Maryland',\n",
    "        'ME': 'Maine',\n",
    "        'MI': 'Michigan',\n",
    "        'MN': 'Minnesota',\n",
    "        'MO': 'Missouri',\n",
    "        'MP': 'Northern Mariana Islands',\n",
    "        'MS': 'Mississippi',\n",
    "        'MT': 'Montana',\n",
    "        'NA': 'National',\n",
    "        'NC': 'North Carolina',\n",
    "        'ND': 'North Dakota',\n",
    "        'NE': 'Nebraska',\n",
    "        'NH': 'New Hampshire',\n",
    "        'NJ': 'New Jersey',\n",
    "        'NM': 'New Mexico',\n",
    "        'NV': 'Nevada',\n",
    "        'NY': 'New York',\n",
    "        'OH': 'Ohio',\n",
    "        'OK': 'Oklahoma',\n",
    "        'OR': 'Oregon',\n",
    "        'PA': 'Pennsylvania',\n",
    "        'PR': 'Puerto Rico',\n",
    "        'RI': 'Rhode Island',\n",
    "        'SC': 'South Carolina',\n",
    "        'SD': 'South Dakota',\n",
    "        'TN': 'Tennessee',\n",
    "        'TX': 'Texas',\n",
    "        'UT': 'Utah',\n",
    "        'VA': 'Virginia',\n",
    "        'VI': 'Virgin Islands',\n",
    "        'VT': 'Vermont',\n",
    "        'WA': 'Washington',\n",
    "        'WI': 'Wisconsin',\n",
    "        'WV': 'West Virginia',\n",
    "        'WY': 'Wyoming'\n",
    "}\n"
   ]
  },
  {
   "cell_type": "code",
   "execution_count": 242,
   "metadata": {
    "id": "DsDa6AdeADoP"
   },
   "outputs": [
    {
     "data": {
      "text/plain": [
       "array([nan, 'Massachusetts', 'Rhode Island', 'New Hampshire', 'Maine',\n",
       "       'Vermont', 'Connecticut', 'New Jersey', 'New York', 'Pennsylvania',\n",
       "       'District of Columbia', 'Virginia', 'Maryland', 'North Carolina',\n",
       "       'Georgia', 'Florida', 'Alabama', 'Ohio', 'Michigan', 'Wisconsin',\n",
       "       'Minnesota', 'Illinois', 'Louisiana', 'Texas', 'Colorado', 'Utah',\n",
       "       'California', 'Oregon', 'Washington'], dtype=object)"
      ]
     },
     "execution_count": 242,
     "metadata": {},
     "output_type": "execute_result"
    }
   ],
   "source": [
    "# CREATE ANOTHER COLUMN BASED ON STATE DERIVED TO GET STATE NAMES USING ABOVE DICTIONARY USING MAP FUNCTION, SAVE in STATE_NAME\n",
    "\n",
    "trips['state_name'] = registered_trips_sampled['state'].map(state_names)\n",
    "trips['state_name'].unique()"
   ]
  },
  {
   "cell_type": "code",
   "execution_count": 243,
   "metadata": {
    "id": "nhC1vBdcADoP",
    "outputId": "93a2f255-8356-4d31-a0d1-158463cdc2df"
   },
   "outputs": [
    {
     "data": {
      "text/plain": [
       "Massachusetts    3040\n",
       "New Hampshire     460\n",
       "New York          200\n",
       "Rhode Island      190\n",
       "Connecticut       160\n",
       "Name: state_name, dtype: int64"
      ]
     },
     "execution_count": 243,
     "metadata": {},
     "output_type": "execute_result"
    }
   ],
   "source": [
    "# USE THE NEWLY CREATED COLUMN TO MAKE A SUMMARY REPORT FOR EACH STATE NAME BASED ON NUMBER OF TRIPS AND GET TOP 5\n",
    "\n",
    "top_5_states= trips['state_name'].value_counts().sort_values(ascending= False).head()\n",
    "top_5_states"
   ]
  },
  {
   "cell_type": "markdown",
   "metadata": {
    "id": "nT01qUxmADoQ"
   },
   "source": [
    "### WE HOPE YOU ENJOYED LEARNING SQL & PYTHON TOGHETHER"
   ]
  },
  {
   "cell_type": "code",
   "execution_count": null,
   "metadata": {},
   "outputs": [],
   "source": []
  },
  {
   "cell_type": "code",
   "execution_count": null,
   "metadata": {},
   "outputs": [],
   "source": []
  },
  {
   "cell_type": "code",
   "execution_count": null,
   "metadata": {},
   "outputs": [],
   "source": []
  }
 ],
 "metadata": {
  "colab": {
   "collapsed_sections": [
    "nT01qUxmADoQ"
   ],
   "provenance": []
  },
  "kernel_info": {
   "name": "python3"
  },
  "kernelspec": {
   "display_name": "Python 3 (ipykernel)",
   "language": "python",
   "name": "python3"
  },
  "language_info": {
   "codemirror_mode": {
    "name": "ipython",
    "version": 3
   },
   "file_extension": ".py",
   "mimetype": "text/x-python",
   "name": "python",
   "nbconvert_exporter": "python",
   "pygments_lexer": "ipython3",
   "version": "3.10.9"
  },
  "nteract": {
   "version": "0.25.1"
  }
 },
 "nbformat": 4,
 "nbformat_minor": 1
}
